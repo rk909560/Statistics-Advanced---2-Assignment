{
 "cells": [
  {
   "cell_type": "code",
   "execution_count": null,
   "id": "5cfd6750",
   "metadata": {},
   "outputs": [],
   "source": []
  },
  {
   "cell_type": "raw",
   "id": "f79265ff",
   "metadata": {},
   "source": [
    "Question 1: What is hypothesis testing in statistics?\n",
    "Hypothesis testing is a testing method to check if the idea about a population is true or not using sample data.\n",
    "            \n",
    "Here we have two assumptions:\n",
    "            \n",
    "Null Hypothesis (Ho): which assumes no effect, no difference\n",
    "Alternative Hypothesis (Ha) : It says there is an effect , and this is what we want to prove.\n",
    "            \n",
    "So based on the data we either reject Ho or fail to reject ho.\n",
    "            \n",
    "Example :   New teacher claims that the new teaching policy has improved the scores:\n",
    "        Ho: The new method does not improves score\n",
    "        Ha: The new method does improves scores."
   ]
  },
  {
   "cell_type": "code",
   "execution_count": null,
   "id": "e939d5f7",
   "metadata": {},
   "outputs": [],
   "source": []
  },
  {
   "cell_type": "raw",
   "id": "0316f9ec",
   "metadata": {},
   "source": [
    "Question 2: What is the null hypothesis, and how does it differ from the alternative hypothesis?\n",
    "\n",
    "Null hypothesis is the default assumption that says no change or effect. We always take Ho as our default assumpton unles we \n",
    "have enouh evidence against it.\n",
    "Alternative Hypothesis is the statement which we want to prove saying that there is an effect or change.\n",
    "\n",
    "Example\n",
    "\n",
    "A xyz phone company claims that its new phone's model battery last long for more than 24 hours.\n",
    "\n",
    "Ho: battery last for 24 hours (no change)\n",
    "Ha: Battery lasts more or less than 24 hours (means there is a change)\n"
   ]
  },
  {
   "cell_type": "code",
   "execution_count": null,
   "id": "e2f425f9",
   "metadata": {},
   "outputs": [],
   "source": []
  },
  {
   "cell_type": "raw",
   "id": "c40047ea",
   "metadata": {},
   "source": [
    "Question 3: Explain the significance level in hypothesis testing and its role in deciding the outcome of a test.\n",
    "    \n",
    "Significance level usually denoted by alpha and tells us the maximum probability of making type I error i.e(Rejecting the\n",
    "Null hypothesis (Ho) even if it is true) \n",
    "its common values are 0.05 or 0.01 i.e 5% or 1%\n",
    "\n",
    "\n",
    "## its role in deciding the outcome of a test\n",
    "\n",
    "once we calculate the p value from sample data we compare it with our significance level i.e alpha\n",
    "\n",
    "If P value is <= alpha , we reject the null hypothesis Ho\n",
    "If P value is > alpha, we failed to reject the null hypothesis Ho\n",
    "Example :\n",
    "    \n",
    "alpha =0.05 i.e 5%, so there are 5% chances of being wrong if we reject Null Hypothesis i.e Ho\n",
    "if p value is 0.03 and 0.03 < 0.05, this mean we reject Null Hypothesis Ho\n",
    "if p value is 0.08 and 0.08 > 0.05, this means we failed to reject the null Hupothesis Ho\n"
   ]
  },
  {
   "cell_type": "code",
   "execution_count": null,
   "id": "231ca9ce",
   "metadata": {},
   "outputs": [],
   "source": []
  },
  {
   "cell_type": "raw",
   "id": "cb8ce466",
   "metadata": {},
   "source": [
    "Question 4: What are Type I and Type II errors? Give examples of each.\n",
    "\n",
    "Type 1 error(False Positive): it happens when we reject the Null Hypothesis (Ho) even though it is true.\n",
    "Type 2 error(False Negative): It happens when we fail to reject the null hypotesis even though it is false\n",
    "    \n",
    "    \n",
    "Type 1 error(False Positive): A Healthy person is diagnosed with  Disease i.e false alarm so false positive.\n",
    "                              We capture and effect which is not really there.\n",
    "    \n",
    "Type 2 error(False Negative): A Diseased person diagonosed as healthy (False negative)\n",
    "                              We missed the effect which is actually there.\n",
    "    \n",
    "    "
   ]
  },
  {
   "cell_type": "code",
   "execution_count": null,
   "id": "00d54fbc",
   "metadata": {},
   "outputs": [],
   "source": []
  },
  {
   "cell_type": "raw",
   "id": "579bdfb6",
   "metadata": {},
   "source": [
    "Question 5: What is the difference between a Z-test and a T-test? Explain when to use each.\n",
    "    \n",
    "Z Test:\n",
    "It is use when sample size large i.e n >30.\n",
    "We must be aware of Population Variance and Standard Deviation\n",
    "Follows the STandard Normal Distribution i.e Z distribution\n",
    "\n",
    "\n",
    "T test:\n",
    "    \n",
    "Used when sample size is small i.e n<=30\n",
    "Population variance and Standard Deviation is unknown\n",
    "follows T distribution\n",
    "\n",
    "\n",
    "WHen to use:\n",
    "    \n",
    "    when we know the population standard deviation and have large sample, use Z test.\n",
    "    when we dont know population standard deviation and have small sample, use T test "
   ]
  },
  {
   "cell_type": "code",
   "execution_count": null,
   "id": "40d7deea",
   "metadata": {},
   "outputs": [],
   "source": []
  },
  {
   "cell_type": "code",
   "execution_count": 6,
   "id": "16c8933f",
   "metadata": {},
   "outputs": [
    {
     "data": {
      "image/png": "[encoded data removed]",
      "text/plain": [
       "<Figure size 432x288 with 1 Axes>"
      ]
     },
     "metadata": {
      "needs_background": "light"
     },
     "output_type": "display_data"
    }
   ],
   "source": [
    "# Question 6: Write a Python program to generate a binomial distribution with n=10 and p=0.5, then plot its histogram.\n",
    "\n",
    "\n",
    "import numpy as np\n",
    "import matplotlib.pyplot as plt\n",
    "\n",
    "n=10\n",
    "p=0.5\n",
    "size=1000 # Number random samples\n",
    "\n",
    "data=np.random.binomial(n,p,size)\n",
    "\n",
    "plt.hist(data,bins=range(n+2),edgecolor='Black')\n",
    "plt.title(\"Binomial Distribution\")\n",
    "plt.xlabel(\"Number of Success\")\n",
    "plt.ylabel(\"Frequency\")\n",
    "plt.show()"
   ]
  },
  {
   "cell_type": "code",
   "execution_count": 1,
   "id": "9206790d",
   "metadata": {},
   "outputs": [
    {
     "name": "stderr",
     "output_type": "stream",
     "text": [
      "C:\\Users\\rk909\\anaconda3\\lib\\site-packages\\scipy\\__init__.py:146: UserWarning: A NumPy version >=1.16.5 and <1.23.0 is required for this version of SciPy (detected version 1.26.4\n",
      "  warnings.warn(f\"A NumPy version >={np_minversion} and <{np_maxversion}\"\n"
     ]
    }
   ],
   "source": [
    "import numpy as np\n",
    "from scipy import stats"
   ]
  },
  {
   "cell_type": "code",
   "execution_count": 7,
   "id": "e941f688",
   "metadata": {},
   "outputs": [
    {
     "name": "stdout",
     "output_type": "stream",
     "text": [
      "Sample Mean: 50.089\n",
      "Sample Std Dev: 0.537\n",
      "Z-Statistic: 0.994\n",
      "P-Value: 0.32021\n",
      "Fail to reject Ho: The mean is not significantly different from 50.\n"
     ]
    }
   ],
   "source": [
    "# Question 7: Implement hypothesis testing using Z-statistics for a sample dataset in Python. Show the Python code and \n",
    "# interpret the results.\n",
    "sample_data = [49.1, 50.2, 51.0, 48.7, 50.5, 49.8, 50.3, 50.7, 50.2, 49.6,50.1, 49.9, 50.8, 50.4, 48.9, 50.6, 50.0, 49.7, \n",
    "                50.2, 49.5,50.1, 50.3, 50.4, 50.5, 50.0, 50.7, 49.3, 49.8, 50.2, 50.9,50.3, 50.4, 50.0, 49.7, 50.5, 49.9]\n",
    "\n",
    "#Sample data = given list of values\n",
    "#Claim (Null Hypothesis, Ho): Population mean mue = 50\n",
    "#Alternative Hypothesis, Ha: mue +- 50 (two-tailed test)\n",
    "#Significance level (alpha): 0.05\n",
    "mue=50\n",
    "\n",
    "sample_mean=np.mean(sample_data)\n",
    "sample_std=np.std(sample_data,ddof=1)\n",
    "n=len(sample_data)\n",
    "\n",
    "se=sample_std/np.sqrt(n)\n",
    "\n",
    "z_stat=(sample_mean-mue)/se\n",
    "\n",
    "p_value=2*(1-stats.norm.cdf(abs(z_stat)))\n",
    "\n",
    "\n",
    "\n",
    "print(\"Sample Mean:\", round(sample_mean, 3))\n",
    "print(\"Sample Std Dev:\", round(sample_std, 3))\n",
    "print(\"Z-Statistic:\", round(z_stat, 3))\n",
    "print(\"P-Value:\", round(p_value, 5))\n",
    "\n",
    "# 5% significance\n",
    "alpha = 0.05\n",
    "if p_value < alpha:\n",
    "    print(\"Reject Ho: The mean is significantly different from 50.\")\n",
    "else:\n",
    "    print(\"Fail to reject Ho: The mean is not significantly different from 50.\")\n"
   ]
  },
  {
   "cell_type": "code",
   "execution_count": null,
   "id": "64e2b3fc",
   "metadata": {},
   "outputs": [],
   "source": []
  },
  {
   "cell_type": "code",
   "execution_count": 8,
   "id": "7a16ca95",
   "metadata": {},
   "outputs": [
    {
     "name": "stdout",
     "output_type": "stream",
     "text": [
      "Mean: 49.42\n",
      "95% Confidence Interval: (48.49, 50.34)\n"
     ]
    },
    {
     "data": {
      "image/png": "[encoded data removed]",
      "text/plain": [
       "<Figure size 432x288 with 1 Axes>"
      ]
     },
     "metadata": {
      "needs_background": "light"
     },
     "output_type": "display_data"
    }
   ],
   "source": [
    "# Question 8: Write a Python script to simulate data from a normal distribution and\n",
    "# calculate the 95% confidence interval for its mean. Plot the data using Matplotlib\n",
    "\n",
    "# Confidence Interval tells us the range in which Population mean is likely to fall and 95% means we are 95% confidence that the\n",
    "# population mean lises inside this range, still we have 5% negative chances.\n",
    "\n",
    "data = np.random.normal(50, 5, 100)\n",
    "\n",
    "mean = np.mean(data)\n",
    "std = np.std(data, ddof=1)\n",
    "n = len(data)\n",
    "\n",
    "\n",
    "se = std / np.sqrt(n)\n",
    "z = 1.96  # for 95%\n",
    "ci_lower = mean - z * se\n",
    "ci_upper = mean + z * se\n",
    "\n",
    "print(\"Mean:\", round(mean, 2))\n",
    "print(\"95% Confidence Interval:\", (round(ci_lower, 2), round(ci_upper, 2)))\n",
    "\n",
    "# histogram\n",
    "plt.hist(data, bins=10, color='lightblue', edgecolor='black')\n",
    "plt.title(\"Simulated Normal Distribution\")\n",
    "plt.xlabel(\"Values\")\n",
    "plt.ylabel(\"Frequency\")\n",
    "plt.show()\n"
   ]
  },
  {
   "cell_type": "code",
   "execution_count": null,
   "id": "052a8755",
   "metadata": {},
   "outputs": [],
   "source": []
  },
  {
   "cell_type": "code",
   "execution_count": 9,
   "id": "3df1c02a",
   "metadata": {},
   "outputs": [
    {
     "name": "stdout",
     "output_type": "stream",
     "text": [
      "Original Data: [10, 12, 13, 15, 18, 20, 22, 23, 24, 30]\n",
      "Z-scores: [-1.39, -1.07, -0.91, -0.59, -0.11, 0.21, 0.53, 0.69, 0.84, 1.8]\n"
     ]
    },
    {
     "data": {
      "image/png": "[encoded data removed]",
      "text/plain": [
       "<Figure size 432x288 with 1 Axes>"
      ]
     },
     "metadata": {
      "needs_background": "light"
     },
     "output_type": "display_data"
    }
   ],
   "source": [
    "# Question 9: Write a Python function to calculate the Z-scores from a dataset and\n",
    "# visualize the standardized data using a histogram. Explain what the Z-scores represent\n",
    "# in terms of standard deviations from the mean.\n",
    "\n",
    "\n",
    "Z score shows the number of standard deviation a data point is away from mean.\n",
    "def calculate_zscores(data):\n",
    "    mean = np.mean(data)\n",
    "    std = np.std(data, ddof=1)  # sample standard deviation\n",
    "    z_scores = [(x - mean) / std for x in data]\n",
    "    return z_scores\n",
    "\n",
    "# Example \n",
    "data = [10, 12, 13, 15, 18, 20, 22, 23, 24, 30]\n",
    "\n",
    "z_scores = calculate_zscores(data)\n",
    "\n",
    "print(\"Original Data:\", data)\n",
    "print(\"Z-scores:\", [round(z, 2) for z in z_scores])\n",
    "\n",
    "plt.hist(z_scores, bins=10, color='lightgreen', edgecolor='black')\n",
    "plt.title(\"Histogram of Z-scores\")\n",
    "plt.xlabel(\"Z-score\")\n",
    "plt.ylabel(\"Frequency\")\n",
    "plt.show()\n"
   ]
  },
  {
   "cell_type": "code",
   "execution_count": null,
   "id": "e70c9cc6",
   "metadata": {},
   "outputs": [],
   "source": []
  }
 ],
 "metadata": {
  "kernelspec": {
   "display_name": "Python 3 (ipykernel)",
   "language": "python",
   "name": "python3"
  },
  "language_info": {
   "codemirror_mode": {
    "name": "ipython",
    "version": 3
   },
   "file_extension": ".py",
   "mimetype": "text/x-python",
   "name": "python",
   "nbconvert_exporter": "python",
   "pygments_lexer": "ipython3",
   "version": "3.9.12"
  }
 },
 "nbformat": 4,
 "nbformat_minor": 5
}
